{
 "cells": [
  {
   "cell_type": "markdown",
   "id": "7a20964a-5924-47ed-a2fc-ac91d4c06e15",
   "metadata": {},
   "source": [
    "## Q1. Embedding the query"
   ]
  },
  {
   "cell_type": "code",
   "execution_count": 45,
   "id": "ea1b8259-bc0d-4896-b3f3-439bfbbb1b57",
   "metadata": {},
   "outputs": [],
   "source": [
    "from fastembed import TextEmbedding\n",
    "import numpy as np"
   ]
  },
  {
   "cell_type": "code",
   "execution_count": 46,
   "id": "071e4a6a-8a1a-404f-bcb6-aa57d65ce7b9",
   "metadata": {},
   "outputs": [
    {
     "data": {
      "text/plain": [
       "np.float64(-0.11726373885183883)"
      ]
     },
     "execution_count": 46,
     "metadata": {},
     "output_type": "execute_result"
    }
   ],
   "source": [
    "query = 'I just discovered the course. Can I join now?'\n",
    "model = TextEmbedding(\"jinaai/jina-embeddings-v2-small-en\")\n",
    "embedding = list(model.embed(query))\n",
    "np.min(embedding)"
   ]
  },
  {
   "cell_type": "code",
   "execution_count": 47,
   "id": "3b5354d6-d13a-4f73-bc12-32a0c1aa00db",
   "metadata": {},
   "outputs": [
    {
     "data": {
      "text/plain": [
       "np.float64(1.0)"
      ]
     },
     "execution_count": 47,
     "metadata": {},
     "output_type": "execute_result"
    }
   ],
   "source": [
    "np.linalg.norm(embedding[0])"
   ]
  },
  {
   "cell_type": "markdown",
   "id": "94dea830-ee3e-4a57-8db1-57f76453b7fe",
   "metadata": {},
   "source": [
    "## Q2. Cosine similarity with another vector"
   ]
  },
  {
   "cell_type": "code",
   "execution_count": 4,
   "id": "cac6d333-79f6-4f38-b26a-30d9b9f865d6",
   "metadata": {},
   "outputs": [
    {
     "data": {
      "text/plain": [
       "np.float64(0.9008528895674548)"
      ]
     },
     "execution_count": 4,
     "metadata": {},
     "output_type": "execute_result"
    }
   ],
   "source": [
    "doc = 'Can I still join the course after the start date?'\n",
    "embedding_q1 = embedding[0]\n",
    "embedding_q2 = list(model.embed(doc))[0]\n",
    "embedding_q1.dot(embedding_q2)"
   ]
  },
  {
   "cell_type": "markdown",
   "id": "524df72e-f66c-40ce-916e-489cd04aab26",
   "metadata": {},
   "source": [
    "## Q3. Ranking by cosine"
   ]
  },
  {
   "cell_type": "code",
   "execution_count": 5,
   "id": "2a97eb99-96fe-415c-88c6-2a4d4cc43ab9",
   "metadata": {},
   "outputs": [],
   "source": [
    "documents = [{'text': \"Yes, even if you don't register, you're still eligible to submit the homeworks.\\nBe aware, however, that there will be deadlines for turning in the final projects. So don't leave everything for the last minute.\",\n",
    "  'section': 'General course-related questions',\n",
    "  'question': 'Course - Can I still join the course after the start date?',\n",
    "  'course': 'data-engineering-zoomcamp'},\n",
    " {'text': 'Yes, we will keep all the materials after the course finishes, so you can follow the course at your own pace after it finishes.\\nYou can also continue looking at the homeworks and continue preparing for the next cohort. I guess you can also start working on your final capstone project.',\n",
    "  'section': 'General course-related questions',\n",
    "  'question': 'Course - Can I follow the course after it finishes?',\n",
    "  'course': 'data-engineering-zoomcamp'},\n",
    " {'text': \"The purpose of this document is to capture frequently asked technical questions\\nThe exact day and hour of the course will be 15th Jan 2024 at 17h00. The course will start with the first  “Office Hours'' live.1\\nSubscribe to course public Google Calendar (it works from Desktop only).\\nRegister before the course starts using this link.\\nJoin the course Telegram channel with announcements.\\nDon’t forget to register in DataTalks.Club's Slack and join the channel.\",\n",
    "  'section': 'General course-related questions',\n",
    "  'question': 'Course - When will the course start?',\n",
    "  'course': 'data-engineering-zoomcamp'},\n",
    " {'text': 'You can start by installing and setting up all the dependencies and requirements:\\nGoogle cloud account\\nGoogle Cloud SDK\\nPython 3 (installed with Anaconda)\\nTerraform\\nGit\\nLook over the prerequisites and syllabus to see if you are comfortable with these subjects.',\n",
    "  'section': 'General course-related questions',\n",
    "  'question': 'Course - What can I do before the course starts?',\n",
    "  'course': 'data-engineering-zoomcamp'},\n",
    " {'text': 'Star the repo! Share it with friends if you find it useful ❣️\\nCreate a PR if you see you can improve the text or the structure of the repository.',\n",
    "  'section': 'General course-related questions',\n",
    "  'question': 'How can we contribute to the course?',\n",
    "  'course': 'data-engineering-zoomcamp'}]"
   ]
  },
  {
   "cell_type": "code",
   "execution_count": 6,
   "id": "643c0d20-b07c-4388-ba3d-876624178a4f",
   "metadata": {},
   "outputs": [],
   "source": [
    "V = []\n",
    "for d in documents:\n",
    "    embedding = list(model.embed(d['text']))[0]\n",
    "    V.append(embedding)\n",
    "V=np.array(V)"
   ]
  },
  {
   "cell_type": "code",
   "execution_count": 7,
   "id": "5e6ded76-34bb-4901-b3c9-a1d4c71f8731",
   "metadata": {},
   "outputs": [
    {
     "data": {
      "text/plain": [
       "array([0.81060572, 0.84989067, 0.79913355, 0.68130471, 0.67392881])"
      ]
     },
     "execution_count": 7,
     "metadata": {},
     "output_type": "execute_result"
    }
   ],
   "source": [
    "cosine_q3 = V.dot(embedding_q2)\n",
    "cosine_q3"
   ]
  },
  {
   "cell_type": "code",
   "execution_count": 8,
   "id": "600cc296-2bd8-4e98-9101-750f5b8a2bac",
   "metadata": {},
   "outputs": [
    {
     "data": {
      "text/plain": [
       "1"
      ]
     },
     "execution_count": 8,
     "metadata": {},
     "output_type": "execute_result"
    }
   ],
   "source": [
    "int(np.argmax(cosine_q3))"
   ]
  },
  {
   "cell_type": "markdown",
   "id": "687d9f2f-427a-4592-a21d-fb71467c539e",
   "metadata": {},
   "source": [
    "## Q4. Ranking by cosine, version two"
   ]
  },
  {
   "cell_type": "code",
   "execution_count": 9,
   "id": "2ec6c246-bb69-45cd-9e23-d80dcdbf3538",
   "metadata": {},
   "outputs": [],
   "source": [
    "V = []\n",
    "for doc in documents:\n",
    "    full_text = doc['question'] + ' ' + doc['text']\n",
    "    embedding = list(model.embed(full_text))[0]\n",
    "    V.append(embedding)\n",
    "V=np.array(V)"
   ]
  },
  {
   "cell_type": "code",
   "execution_count": 10,
   "id": "93b4a269-91b3-45b9-ab3b-859df0b50764",
   "metadata": {},
   "outputs": [
    {
     "data": {
      "text/plain": [
       "array([0.92732523, 0.85948475, 0.83966021, 0.76320298, 0.76044493])"
      ]
     },
     "execution_count": 10,
     "metadata": {},
     "output_type": "execute_result"
    }
   ],
   "source": [
    "cosine_q4=V.dot(embedding_q2)\n",
    "cosine_q4"
   ]
  },
  {
   "cell_type": "code",
   "execution_count": 11,
   "id": "e5839a25-4041-4b5e-bb12-76dacd64877c",
   "metadata": {},
   "outputs": [
    {
     "data": {
      "text/plain": [
       "0"
      ]
     },
     "execution_count": 11,
     "metadata": {},
     "output_type": "execute_result"
    }
   ],
   "source": [
    "int(np.argmax(cosine_q4))"
   ]
  },
  {
   "cell_type": "markdown",
   "id": "30790337-8843-4942-8514-c54ac8a796b2",
   "metadata": {},
   "source": [
    "It is different."
   ]
  },
  {
   "cell_type": "markdown",
   "id": "a8428f7b-b8ed-4f99-8191-cbc9dd3a5793",
   "metadata": {},
   "source": [
    "## Q5. Selecting the embedding model"
   ]
  },
  {
   "cell_type": "code",
   "execution_count": 12,
   "id": "d35cf9b3-e5b2-446b-be29-7baca2d1e8bc",
   "metadata": {},
   "outputs": [
    {
     "data": {
      "text/plain": [
       "384"
      ]
     },
     "execution_count": 12,
     "metadata": {},
     "output_type": "execute_result"
    }
   ],
   "source": [
    "dim_set = set()\n",
    "for model in TextEmbedding.list_supported_models():\n",
    "    dim_set.add(model[\"dim\"])\n",
    "min(dim_set)"
   ]
  },
  {
   "cell_type": "markdown",
   "id": "d922ba72-8332-4515-8bc1-656c9d0a08fa",
   "metadata": {},
   "source": [
    "## Q6. Indexing with qdrant "
   ]
  },
  {
   "cell_type": "code",
   "execution_count": 13,
   "id": "8f95dd06-af44-43cf-8140-39dc274c2def",
   "metadata": {},
   "outputs": [],
   "source": [
    "import requests \n",
    "\n",
    "docs_url = 'https://github.com/alexeygrigorev/llm-rag-workshop/raw/main/notebooks/documents.json'\n",
    "docs_response = requests.get(docs_url)\n",
    "documents_raw = docs_response.json()\n",
    "\n",
    "documents = []\n",
    "\n",
    "for course in documents_raw:\n",
    "    course_name = course['course']\n",
    "    if course_name != 'machine-learning-zoomcamp':\n",
    "        continue\n",
    "\n",
    "    for doc in course['documents']:\n",
    "        doc['course'] = course_name\n",
    "        documents.append(doc)"
   ]
  },
  {
   "cell_type": "code",
   "execution_count": 17,
   "id": "579c690d-3aa7-4c46-bcf1-4298e83d53ea",
   "metadata": {},
   "outputs": [],
   "source": [
    "from qdrant_client import QdrantClient, models\n",
    "\n",
    "client = QdrantClient(\"http://localhost:6333\")"
   ]
  },
  {
   "cell_type": "code",
   "execution_count": 38,
   "id": "1614207b-842e-455b-9431-59f18a9e0c5c",
   "metadata": {},
   "outputs": [
    {
     "data": {
      "text/plain": [
       "True"
      ]
     },
     "execution_count": 38,
     "metadata": {},
     "output_type": "execute_result"
    }
   ],
   "source": [
    "collection_name = \"ml-zoomcamp-faq\"\n",
    "EMBEDDING_DIMENSIONALITY = 384\n",
    "model_handle = \"BAAI/bge-small-en\"\n",
    "\n",
    "# Create the collection with specified sparse vector parameters\n",
    "client.create_collection(\n",
    "    collection_name=collection_name,\n",
    "    vectors_config=models.VectorParams(\n",
    "        size=EMBEDDING_DIMENSIONALITY,\n",
    "        distance=models.Distance.COSINE\n",
    "    )\n",
    ")"
   ]
  },
  {
   "cell_type": "code",
   "execution_count": 39,
   "id": "3a72f100-d755-42dd-9850-5e2cd0d22408",
   "metadata": {},
   "outputs": [],
   "source": [
    "points = []\n",
    "\n",
    "for i, doc in enumerate(documents):\n",
    "    text = doc['question'] + ' ' + doc['text']\n",
    "    vector = models.Document(text=text, model=model_handle)\n",
    "    point = models.PointStruct(\n",
    "        id=i,\n",
    "        vector=vector,\n",
    "        payload=doc\n",
    "    )\n",
    "    points.append(point)"
   ]
  },
  {
   "cell_type": "code",
   "execution_count": 44,
   "id": "04b7ff5b-e176-4716-943d-60444f83dc04",
   "metadata": {},
   "outputs": [
    {
     "data": {
      "text/plain": [
       "UpdateResult(operation_id=1, status=<UpdateStatus.COMPLETED: 'completed'>)"
      ]
     },
     "execution_count": 44,
     "metadata": {},
     "output_type": "execute_result"
    }
   ],
   "source": [
    "client.upsert(\n",
    "    collection_name=collection_name,\n",
    "    points=points\n",
    ")"
   ]
  },
  {
   "cell_type": "code",
   "execution_count": 41,
   "id": "8db08b14-ea89-49f8-93ce-d85af2c04ace",
   "metadata": {},
   "outputs": [],
   "source": [
    "query = 'I just discovered the course. Can I join now?'"
   ]
  },
  {
   "cell_type": "code",
   "execution_count": 42,
   "id": "543f935d-8e8d-4af8-8dc5-95229bca9f57",
   "metadata": {},
   "outputs": [],
   "source": [
    "def vector_search(question):    \n",
    "    query_points = client.query_points(\n",
    "        collection_name=collection_name,\n",
    "        query=models.Document(\n",
    "            text=question,\n",
    "            model=model_handle \n",
    "        ),\n",
    "        limit=5,\n",
    "        with_payload=True\n",
    "    )\n",
    "    \n",
    "    results = []\n",
    "    \n",
    "    for point in query_points.points:\n",
    "        results.append(point)\n",
    "    \n",
    "    return results"
   ]
  },
  {
   "cell_type": "code",
   "execution_count": 43,
   "id": "857ec141-bd58-48dd-8a85-bf2b447387b1",
   "metadata": {},
   "outputs": [
    {
     "data": {
      "text/plain": [
       "0.8703172"
      ]
     },
     "execution_count": 43,
     "metadata": {},
     "output_type": "execute_result"
    }
   ],
   "source": [
    "vector_search(query)[0].score"
   ]
  }
 ],
 "metadata": {
  "kernelspec": {
   "display_name": "condapy313",
   "language": "python",
   "name": "condapy313"
  },
  "language_info": {
   "codemirror_mode": {
    "name": "ipython",
    "version": 3
   },
   "file_extension": ".py",
   "mimetype": "text/x-python",
   "name": "python",
   "nbconvert_exporter": "python",
   "pygments_lexer": "ipython3",
   "version": "3.13.3"
  }
 },
 "nbformat": 4,
 "nbformat_minor": 5
}
