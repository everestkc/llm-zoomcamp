{
 "cells": [
  {
   "cell_type": "markdown",
   "id": "7a5d34a8",
   "metadata": {},
   "source": [
    "## Preparation"
   ]
  },
  {
   "cell_type": "code",
   "execution_count": 14,
   "id": "b6a71adf",
   "metadata": {},
   "outputs": [],
   "source": [
    "import random\n",
    "\n",
    "known_weather_data = {\n",
    "    'berlin': 20.0\n",
    "}\n",
    "\n",
    "def get_weather(city: str) -> float:\n",
    "    city = city.strip().lower()\n",
    "\n",
    "    if city in known_weather_data:\n",
    "        return known_weather_data[city]\n",
    "\n",
    "    return round(random.uniform(-5, 35), 1)"
   ]
  },
  {
   "cell_type": "markdown",
   "id": "41841d06",
   "metadata": {},
   "source": [
    "## Q1. Define function description"
   ]
  },
  {
   "cell_type": "code",
   "execution_count": 15,
   "id": "aae1a6a7",
   "metadata": {},
   "outputs": [],
   "source": [
    "get_weather_tool = {\n",
    "    \"type\": \"function\",\n",
    "    \"name\": \"get_weather\",\n",
    "    \"description\": \"Get the weather of the city\",\n",
    "    \"parameters\": {\n",
    "        \"type\": \"object\",\n",
    "        \"properties\": {\n",
    "            \"city\": {\n",
    "                \"type\": \"string\",\n",
    "                \"description\": \"City lookup the weather of\"\n",
    "            }\n",
    "        },\n",
    "        \"required\": [\"city\"],\n",
    "        \"additionalProperties\": False\n",
    "    }\n",
    "}"
   ]
  },
  {
   "cell_type": "code",
   "execution_count": 16,
   "id": "f7f268f0",
   "metadata": {},
   "outputs": [],
   "source": [
    "from openai import OpenAI\n",
    "import os\n",
    "\n",
    "client = OpenAI(api_key=os.environ.get(\"OPENAI_API_KEY\"))\n"
   ]
  },
  {
   "cell_type": "markdown",
   "id": "019023cf",
   "metadata": {},
   "source": [
    "## Q2. Adding another tool"
   ]
  },
  {
   "cell_type": "code",
   "execution_count": 17,
   "id": "665a8bc0",
   "metadata": {},
   "outputs": [],
   "source": [
    "def set_weather(city: str, temp: float) -> None:\n",
    "    city = city.strip().lower()\n",
    "    known_weather_data[city] = temp\n",
    "    return 'OK'"
   ]
  },
  {
   "cell_type": "code",
   "execution_count": 18,
   "id": "51578523",
   "metadata": {},
   "outputs": [],
   "source": [
    "set_weather_tool = {\n",
    "    \"type\": \"function\",\n",
    "    \"name\": \"set_weather\",\n",
    "    \"description\": \"Set the weather of the city\",\n",
    "    \"parameters\": {\n",
    "        \"type\": \"object\",\n",
    "        \"properties\": {\n",
    "            \"city\": {\n",
    "                \"type\": \"string\",\n",
    "                \"description\": \"City lookup the weather of\"\n",
    "            },\n",
    "            \"temp\": {\n",
    "                \"type\": \"float\",\n",
    "                \"description\": \"Temperature of the city\"\n",
    "            }\n",
    "        },\n",
    "        \"required\": [\"city\",\"temp\"],\n",
    "        \"additionalProperties\": False\n",
    "    }\n",
    "}"
   ]
  },
  {
   "cell_type": "markdown",
   "id": "fac017d6",
   "metadata": {},
   "source": [
    "## Q3. Install FastMCP"
   ]
  },
  {
   "cell_type": "code",
   "execution_count": 19,
   "id": "046a80e0",
   "metadata": {},
   "outputs": [
    {
     "name": "stderr",
     "output_type": "stream",
     "text": [
      "/Users/everestkc/miniforge3/envs/py313/lib/python3.13/pty.py:95: DeprecationWarning: This process (pid=39252) is multi-threaded, use of forkpty() may lead to deadlocks in the child.\n",
      "  pid, fd = os.forkpty()\n"
     ]
    },
    {
     "name": "stdout",
     "output_type": "stream",
     "text": [
      "Requirement already satisfied: fastmcp in /Users/everestkc/miniforge3/envs/py313/lib/python3.13/site-packages (2.10.5)\n",
      "Requirement already satisfied: authlib>=1.5.2 in /Users/everestkc/miniforge3/envs/py313/lib/python3.13/site-packages (from fastmcp) (1.6.0)\n",
      "Requirement already satisfied: cyclopts>=3.0.0 in /Users/everestkc/miniforge3/envs/py313/lib/python3.13/site-packages (from fastmcp) (3.22.2)\n",
      "Requirement already satisfied: exceptiongroup>=1.2.2 in /Users/everestkc/miniforge3/envs/py313/lib/python3.13/site-packages (from fastmcp) (1.3.0)\n",
      "Requirement already satisfied: httpx>=0.28.1 in /Users/everestkc/miniforge3/envs/py313/lib/python3.13/site-packages (from fastmcp) (0.28.1)\n",
      "Requirement already satisfied: mcp>=1.10.0 in /Users/everestkc/miniforge3/envs/py313/lib/python3.13/site-packages (from fastmcp) (1.11.0)\n",
      "Requirement already satisfied: openapi-pydantic>=0.5.1 in /Users/everestkc/miniforge3/envs/py313/lib/python3.13/site-packages (from fastmcp) (0.5.1)\n",
      "Requirement already satisfied: pydantic>=2.11.7 in /Users/everestkc/miniforge3/envs/py313/lib/python3.13/site-packages (from pydantic[email]>=2.11.7->fastmcp) (2.11.7)\n",
      "Requirement already satisfied: pyperclip>=1.9.0 in /Users/everestkc/miniforge3/envs/py313/lib/python3.13/site-packages (from fastmcp) (1.9.0)\n",
      "Requirement already satisfied: python-dotenv>=1.1.0 in /Users/everestkc/miniforge3/envs/py313/lib/python3.13/site-packages (from fastmcp) (1.1.1)\n",
      "Requirement already satisfied: rich>=13.9.4 in /Users/everestkc/miniforge3/envs/py313/lib/python3.13/site-packages (from fastmcp) (14.0.0)\n",
      "Requirement already satisfied: cryptography in /Users/everestkc/miniforge3/envs/py313/lib/python3.13/site-packages (from authlib>=1.5.2->fastmcp) (45.0.5)\n",
      "Requirement already satisfied: attrs>=23.1.0 in /Users/everestkc/miniforge3/envs/py313/lib/python3.13/site-packages (from cyclopts>=3.0.0->fastmcp) (25.3.0)\n",
      "Requirement already satisfied: docstring-parser>=0.15 in /Users/everestkc/miniforge3/envs/py313/lib/python3.13/site-packages (from cyclopts>=3.0.0->fastmcp) (0.16)\n",
      "Requirement already satisfied: rich-rst<2.0.0,>=1.3.1 in /Users/everestkc/miniforge3/envs/py313/lib/python3.13/site-packages (from cyclopts>=3.0.0->fastmcp) (1.3.1)\n",
      "Requirement already satisfied: docutils in /Users/everestkc/miniforge3/envs/py313/lib/python3.13/site-packages (from rich-rst<2.0.0,>=1.3.1->cyclopts>=3.0.0->fastmcp) (0.21.2)\n",
      "Requirement already satisfied: anyio in /Users/everestkc/miniforge3/envs/py313/lib/python3.13/site-packages (from httpx>=0.28.1->fastmcp) (4.9.0)\n",
      "Requirement already satisfied: certifi in /Users/everestkc/miniforge3/envs/py313/lib/python3.13/site-packages (from httpx>=0.28.1->fastmcp) (2022.12.7)\n",
      "Requirement already satisfied: httpcore==1.* in /Users/everestkc/miniforge3/envs/py313/lib/python3.13/site-packages (from httpx>=0.28.1->fastmcp) (1.0.9)\n",
      "Requirement already satisfied: idna in /Users/everestkc/miniforge3/envs/py313/lib/python3.13/site-packages (from httpx>=0.28.1->fastmcp) (3.4)\n",
      "Requirement already satisfied: h11>=0.16 in /Users/everestkc/miniforge3/envs/py313/lib/python3.13/site-packages (from httpcore==1.*->httpx>=0.28.1->fastmcp) (0.16.0)\n",
      "Requirement already satisfied: httpx-sse>=0.4 in /Users/everestkc/miniforge3/envs/py313/lib/python3.13/site-packages (from mcp>=1.10.0->fastmcp) (0.4.1)\n",
      "Requirement already satisfied: jsonschema>=4.20.0 in /Users/everestkc/miniforge3/envs/py313/lib/python3.13/site-packages (from mcp>=1.10.0->fastmcp) (4.24.0)\n",
      "Requirement already satisfied: pydantic-settings>=2.5.2 in /Users/everestkc/miniforge3/envs/py313/lib/python3.13/site-packages (from mcp>=1.10.0->fastmcp) (2.10.1)\n",
      "Requirement already satisfied: python-multipart>=0.0.9 in /Users/everestkc/miniforge3/envs/py313/lib/python3.13/site-packages (from mcp>=1.10.0->fastmcp) (0.0.20)\n",
      "Requirement already satisfied: sse-starlette>=1.6.1 in /Users/everestkc/miniforge3/envs/py313/lib/python3.13/site-packages (from mcp>=1.10.0->fastmcp) (2.4.1)\n",
      "Requirement already satisfied: starlette>=0.27 in /Users/everestkc/miniforge3/envs/py313/lib/python3.13/site-packages (from mcp>=1.10.0->fastmcp) (0.46.2)\n",
      "Requirement already satisfied: uvicorn>=0.23.1 in /Users/everestkc/miniforge3/envs/py313/lib/python3.13/site-packages (from mcp>=1.10.0->fastmcp) (0.34.2)\n",
      "Requirement already satisfied: annotated-types>=0.6.0 in /Users/everestkc/miniforge3/envs/py313/lib/python3.13/site-packages (from pydantic>=2.11.7->pydantic[email]>=2.11.7->fastmcp) (0.7.0)\n",
      "Requirement already satisfied: pydantic-core==2.33.2 in /Users/everestkc/miniforge3/envs/py313/lib/python3.13/site-packages (from pydantic>=2.11.7->pydantic[email]>=2.11.7->fastmcp) (2.33.2)\n",
      "Requirement already satisfied: typing-extensions>=4.12.2 in /Users/everestkc/miniforge3/envs/py313/lib/python3.13/site-packages (from pydantic>=2.11.7->pydantic[email]>=2.11.7->fastmcp) (4.14.1)\n",
      "Requirement already satisfied: typing-inspection>=0.4.0 in /Users/everestkc/miniforge3/envs/py313/lib/python3.13/site-packages (from pydantic>=2.11.7->pydantic[email]>=2.11.7->fastmcp) (0.4.1)\n",
      "Requirement already satisfied: sniffio>=1.1 in /Users/everestkc/miniforge3/envs/py313/lib/python3.13/site-packages (from anyio->httpx>=0.28.1->fastmcp) (1.3.1)\n",
      "Requirement already satisfied: jsonschema-specifications>=2023.03.6 in /Users/everestkc/miniforge3/envs/py313/lib/python3.13/site-packages (from jsonschema>=4.20.0->mcp>=1.10.0->fastmcp) (2025.4.1)\n",
      "Requirement already satisfied: referencing>=0.28.4 in /Users/everestkc/miniforge3/envs/py313/lib/python3.13/site-packages (from jsonschema>=4.20.0->mcp>=1.10.0->fastmcp) (0.36.2)\n",
      "Requirement already satisfied: rpds-py>=0.7.1 in /Users/everestkc/miniforge3/envs/py313/lib/python3.13/site-packages (from jsonschema>=4.20.0->mcp>=1.10.0->fastmcp) (0.26.0)\n",
      "Requirement already satisfied: email-validator>=2.0.0 in /Users/everestkc/miniforge3/envs/py313/lib/python3.13/site-packages (from pydantic[email]>=2.11.7->fastmcp) (2.2.0)\n",
      "Requirement already satisfied: dnspython>=2.0.0 in /Users/everestkc/miniforge3/envs/py313/lib/python3.13/site-packages (from email-validator>=2.0.0->pydantic[email]>=2.11.7->fastmcp) (2.7.0)\n",
      "Requirement already satisfied: markdown-it-py>=2.2.0 in /Users/everestkc/miniforge3/envs/py313/lib/python3.13/site-packages (from rich>=13.9.4->fastmcp) (3.0.0)\n",
      "Requirement already satisfied: pygments<3.0.0,>=2.13.0 in /Users/everestkc/miniforge3/envs/py313/lib/python3.13/site-packages (from rich>=13.9.4->fastmcp) (2.19.2)\n",
      "Requirement already satisfied: mdurl~=0.1 in /Users/everestkc/miniforge3/envs/py313/lib/python3.13/site-packages (from markdown-it-py>=2.2.0->rich>=13.9.4->fastmcp) (0.1.2)\n",
      "Requirement already satisfied: click>=7.0 in /Users/everestkc/miniforge3/envs/py313/lib/python3.13/site-packages (from uvicorn>=0.23.1->mcp>=1.10.0->fastmcp) (8.1.3)\n",
      "Requirement already satisfied: cffi>=1.14 in /Users/everestkc/miniforge3/envs/py313/lib/python3.13/site-packages (from cryptography->authlib>=1.5.2->fastmcp) (1.17.1)\n",
      "Requirement already satisfied: pycparser in /Users/everestkc/miniforge3/envs/py313/lib/python3.13/site-packages (from cffi>=1.14->cryptography->authlib>=1.5.2->fastmcp) (2.22)\n"
     ]
    }
   ],
   "source": [
    "!pip install fastmcp"
   ]
  },
  {
   "cell_type": "code",
   "execution_count": 20,
   "id": "1eb6ad16",
   "metadata": {},
   "outputs": [
    {
     "name": "stdout",
     "output_type": "stream",
     "text": [
      "Name: fastmcp\n",
      "Version: 2.10.5\n",
      "Summary: The fast, Pythonic way to build MCP servers and clients.\n",
      "Home-page: https://gofastmcp.com\n",
      "Author: Jeremiah Lowin\n",
      "Author-email: \n",
      "License-Expression: Apache-2.0\n",
      "Location: /Users/everestkc/miniforge3/envs/py313/lib/python3.13/site-packages\n",
      "Requires: authlib, cyclopts, exceptiongroup, httpx, mcp, openapi-pydantic, pydantic, pyperclip, python-dotenv, rich\n",
      "Required-by: \n"
     ]
    }
   ],
   "source": [
    "!pip show fastmcp"
   ]
  },
  {
   "cell_type": "markdown",
   "id": "3e17cc06-eb04-433f-bd53-5cb707322192",
   "metadata": {},
   "source": [
    "## Q6. Client"
   ]
  },
  {
   "cell_type": "code",
   "execution_count": 30,
   "id": "43f6d716-047c-4bda-b294-e222db8ba854",
   "metadata": {},
   "outputs": [
    {
     "name": "stdout",
     "output_type": "stream",
     "text": [
      "[Tool(name='get_weather', title=None, description='Retrieves the temperature for a specified city.\\n\\nParameters:\\n    city (str): The name of the city for which to retrieve weather data.\\n\\nReturns:\\n    float: The temperature associated with the city.', inputSchema={'properties': {'city': {'title': 'City', 'type': 'string'}}, 'required': ['city'], 'type': 'object'}, outputSchema={'properties': {'result': {'title': 'Result', 'type': 'number'}}, 'required': ['result'], 'title': '_WrappedResult', 'type': 'object', 'x-fastmcp-wrap-result': True}, annotations=None, meta=None), Tool(name='set_weather', title=None, description=\"Sets the temperature for a specified city.\\n\\nParameters:\\n    city (str): The name of the city for which to set the weather data.\\n    temp (float): The temperature to associate with the city.\\n\\nReturns:\\n    str: A confirmation string 'OK' indicating successful update.\", inputSchema={'properties': {'city': {'title': 'City', 'type': 'string'}, 'temp': {'title': 'Temp', 'type': 'number'}}, 'required': ['city', 'temp'], 'type': 'object'}, outputSchema=None, annotations=None, meta=None)]\n"
     ]
    }
   ],
   "source": [
    "import weather_server\n",
    "from fastmcp import Client\n",
    "\n",
    "async def main():\n",
    "    async with Client(weather_server.mcp) as mcp_client:\n",
    "        tools = await mcp_client.list_tools()\n",
    "        print(tools)\n",
    "\n",
    "await main()"
   ]
  }
 ],
 "metadata": {
  "kernelspec": {
   "display_name": "condapy313",
   "language": "python",
   "name": "condapy313"
  },
  "language_info": {
   "codemirror_mode": {
    "name": "ipython",
    "version": 3
   },
   "file_extension": ".py",
   "mimetype": "text/x-python",
   "name": "python",
   "nbconvert_exporter": "python",
   "pygments_lexer": "ipython3",
   "version": "3.13.3"
  }
 },
 "nbformat": 4,
 "nbformat_minor": 5
}
